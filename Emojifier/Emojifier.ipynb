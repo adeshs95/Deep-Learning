{
 "cells": [
  {
   "cell_type": "code",
   "execution_count": 54,
   "id": "hollywood-stick",
   "metadata": {},
   "outputs": [],
   "source": [
    "from emo_utils import *\n",
    "import emoji\n",
    "import matplotlib.pyplot as plt\n",
    "import numpy as np\n",
    "np.random.seed(0)\n",
    "from keras.models import Model\n",
    "from keras.layers import Dense, Input, Dropout, LSTM, Activation\n",
    "from keras.layers.embeddings import Embedding\n",
    "from keras.preprocessing import sequence\n",
    "from keras.initializers import glorot_uniform\n",
    "np.random.seed(1)\n",
    "\n",
    "%matplotlib inline"
   ]
  },
  {
   "cell_type": "code",
   "execution_count": 55,
   "id": "caring-picture",
   "metadata": {},
   "outputs": [],
   "source": [
    "X_train, Y_train = read_csv('data/train_emoji.csv')\n",
    "X_test, Y_test = read_csv('data/tesss.csv')"
   ]
  },
  {
   "cell_type": "code",
   "execution_count": 56,
   "id": "unusual-haiti",
   "metadata": {},
   "outputs": [],
   "source": [
    "maxLen = len(max(X_train, key=len).split())"
   ]
  },
  {
   "cell_type": "code",
   "execution_count": 57,
   "id": "pregnant-scott",
   "metadata": {},
   "outputs": [],
   "source": [
    "Y_oh_train = convert_to_one_hot(Y_train, C = 5)\n",
    "Y_oh_test = convert_to_one_hot(Y_test, C = 5)"
   ]
  },
  {
   "cell_type": "code",
   "execution_count": 58,
   "id": "impaired-bobby",
   "metadata": {},
   "outputs": [],
   "source": [
    "word_to_index, index_to_word, word_to_vec_map = read_glove_vecs('data/glove.6B.50d.txt')"
   ]
  },
  {
   "cell_type": "code",
   "execution_count": 59,
   "id": "cardiovascular-software",
   "metadata": {},
   "outputs": [],
   "source": [
    "# GRADED FUNCTION: sentences_to_indices\n",
    "\n",
    "def sentences_to_indices(X, word_to_index, max_len):\n",
    "    \"\"\"\n",
    "    Converts an array of sentences (strings) into an array of indices corresponding to words in the sentences.\n",
    "    The output shape should be such that it can be given to `Embedding()` (described in Figure 4). \n",
    "    \n",
    "    Arguments:\n",
    "    X -- array of sentences (strings), of shape (m, 1)\n",
    "    word_to_index -- a dictionary containing the each word mapped to its index\n",
    "    max_len -- maximum number of words in a sentence. You can assume every sentence in X is no longer than this. \n",
    "    \n",
    "    Returns:\n",
    "    X_indices -- array of indices corresponding to words in the sentences from X, of shape (m, max_len)\n",
    "    \"\"\"\n",
    "    \n",
    "    m = X.shape[0]                                   # number of training examples\n",
    "    \n",
    "    ### START CODE HERE ###\n",
    "    # Initialize X_indices as a numpy matrix of zeros and the correct shape (≈ 1 line)\n",
    "    X_indices = np.zeros((m , max_len))\n",
    "    \n",
    "    for i in range(m):                              # loop over training examples\n",
    "        \n",
    "        # Convert the ith training sentence in lower case and split is into words. You should get a list of words.\n",
    "        words = X[i].lower().split()\n",
    "        \n",
    "        # Initialize j to 0\n",
    "        j =0\n",
    "        \n",
    "        for j in range(len(words)):# Loop over the words of sentence_words\n",
    "      \n",
    "            X_indices[i][j] = word_to_index[words[j]] # Set the (i,j)th entry of X_indices to the index of the correct word.\n",
    "           \n",
    "            # Increment j to j + 1\n",
    "            \n",
    "            \n",
    "    ### END CODE HERE ###\n",
    "    \n",
    "    return X_indices"
   ]
  },
  {
   "cell_type": "code",
   "execution_count": 60,
   "id": "legendary-concord",
   "metadata": {},
   "outputs": [],
   "source": [
    "# GRADED FUNCTION: pretrained_embedding_layer\n",
    "\n",
    "def pretrained_embedding_layer(word_to_vec_map, word_to_index):\n",
    "    \"\"\"\n",
    "    Creates a Keras Embedding() layer and loads in pre-trained GloVe 50-dimensional vectors.\n",
    "    \n",
    "    Arguments:\n",
    "    word_to_vec_map -- dictionary mapping words to their GloVe vector representation.\n",
    "    word_to_index -- dictionary mapping from words to their indices in the vocabulary (400,001 words)\n",
    "\n",
    "    Returns:\n",
    "    embedding_layer -- pretrained layer Keras instance\n",
    "    \"\"\"\n",
    "    \n",
    "    vocab_len = len(word_to_index) + 1                  # adding 1 to fit Keras embedding (requirement)\n",
    "    emb_dim = word_to_vec_map[\"cucumber\"].shape[0]      # define dimensionality of your GloVe word vectors (= 50)\n",
    "    \n",
    "    ### START CODE HERE ###\n",
    "    # Step 1\n",
    "    # Initialize the embedding matrix as a numpy array of zeros.\n",
    "    # See instructions above to choose the correct shape.\n",
    "    emb_matrix = np.zeros((vocab_len , emb_dim ))\n",
    "    \n",
    "    # Step 2\n",
    "    # Set each row \"idx\" of the embedding matrix to be \n",
    "    # the word vector representation of the idx'th word of the vocabulary\n",
    "    \n",
    "    for key ,idx in word_to_index.items():\n",
    "        emb_matrix[idx] =  word_to_vec_map[key]\n",
    "\n",
    "    # Step 3\n",
    "    # Define Keras embedding layer with the correct input and output sizes\n",
    "    # Make it non-trainable.\n",
    "    embedding_layer = Embedding(vocab_len, emb_dim, trainable=False)\n",
    "\n",
    "    ### END CODE HERE ###\n",
    "\n",
    "    # Step 4 (already done for you; please do not modify)\n",
    "    # Build the embedding layer, it is required before setting the weights of the embedding layer. \n",
    "    embedding_layer.build((None,)) # Do not modify the \"None\".  This line of code is complete as-is.\n",
    "    \n",
    "    # Set the weights of the embedding layer to the embedding matrix. Your layer is now pretrained.\n",
    "    embedding_layer.set_weights([emb_matrix])\n",
    "    \n",
    "    return embedding_layer"
   ]
  },
  {
   "cell_type": "code",
   "execution_count": 61,
   "id": "affected-transcription",
   "metadata": {},
   "outputs": [],
   "source": [
    "# GRADED FUNCTION: Emojify_V2\n",
    "\n",
    "def Emojify_V2(input_shape, word_to_vec_map, word_to_index):\n",
    "    \"\"\"\n",
    "    Function creating the Emojify-v2 model's graph.\n",
    "    \n",
    "    Arguments:\n",
    "    input_shape -- shape of the input, usually (max_len,)\n",
    "    word_to_vec_map -- dictionary mapping every word in a vocabulary into its 50-dimensional vector representation\n",
    "    word_to_index -- dictionary mapping from words to their indices in the vocabulary (400,001 words)\n",
    "\n",
    "    Returns:\n",
    "    model -- a model instance in Keras\n",
    "    \"\"\"\n",
    "    \n",
    "    ### START CODE HERE ###\n",
    "    # Define sentence_indices as the input of the graph\n",
    "    # It should be of shape input_shape and dtype 'int32' (as it contains indices).\n",
    "    sentence_indices = Input(shape = (input_shape) , dtype = 'int32')\n",
    "    \n",
    "    # Create the embedding layer pretrained with GloVe Vectors (≈1 line)\n",
    "    emb_layer = pretrained_embedding_layer(word_to_vec_map, word_to_index)\n",
    "    \n",
    "    # Propagate sentence_indices through your embedding layer, you get back the embeddings\n",
    "    embeddings = emb_layer(sentence_indices)\n",
    "    \n",
    "    # Propagate the embeddings through an LSTM layer with 128-dimensional hidden state\n",
    "    # Be careful, the returned output should be a batch of sequences.\n",
    "    lstm = LSTM(units = 128 , return_sequences = True)(embeddings)\n",
    "    # Add dropout with a probability of 0.5\n",
    "    lstm_dropout = Dropout(rate = 0.5)(lstm)\n",
    "    # Propagate X trough another LSTM layer with 128-dimensional hidden state\n",
    "    # Be careful, the returned output should be a single hidden state, not a batch of sequences.\n",
    "    lstm = LSTM(units = 128, return_sequences = False)(lstm_dropout)\n",
    "    # Add dropout with a probability of 0.5\n",
    "    lstm_dropout = Dropout(rate = 0.5)(lstm)\n",
    "    # Propagate X through a Dense layer with softmax activation to get back a batch of 5-dimensional vectors.\n",
    "    lstm_softmax = Dense(units = 5)(lstm_dropout)\n",
    "    # Add a softmax activation\n",
    "    softmax_activation = Activation('softmax')(lstm_softmax)\n",
    "    \n",
    "    # Create Model instance which converts sentence_indices into X.\n",
    "   \n",
    "    model = Model(inputs = sentence_indices , outputs = softmax_activation )\n",
    "    ### END CODE HERE ###\n",
    "    \n",
    "    return model"
   ]
  },
  {
   "cell_type": "code",
   "execution_count": 62,
   "id": "exceptional-voluntary",
   "metadata": {},
   "outputs": [
    {
     "name": "stdout",
     "output_type": "stream",
     "text": [
      "Model: \"model_5\"\n",
      "_________________________________________________________________\n",
      "Layer (type)                 Output Shape              Param #   \n",
      "=================================================================\n",
      "input_5 (InputLayer)         (None, 10)                0         \n",
      "_________________________________________________________________\n",
      "embedding_5 (Embedding)      (None, 10, 50)            20000050  \n",
      "_________________________________________________________________\n",
      "lstm_9 (LSTM)                (None, 10, 128)           91648     \n",
      "_________________________________________________________________\n",
      "dropout_9 (Dropout)          (None, 10, 128)           0         \n",
      "_________________________________________________________________\n",
      "lstm_10 (LSTM)               (None, 128)               131584    \n",
      "_________________________________________________________________\n",
      "dropout_10 (Dropout)         (None, 128)               0         \n",
      "_________________________________________________________________\n",
      "dense_5 (Dense)              (None, 5)                 645       \n",
      "_________________________________________________________________\n",
      "activation_5 (Activation)    (None, 5)                 0         \n",
      "=================================================================\n",
      "Total params: 20,223,927\n",
      "Trainable params: 223,877\n",
      "Non-trainable params: 20,000,050\n",
      "_________________________________________________________________\n"
     ]
    }
   ],
   "source": [
    "model = Emojify_V2((maxLen,), word_to_vec_map, word_to_index)\n",
    "model.summary()"
   ]
  },
  {
   "cell_type": "code",
   "execution_count": 63,
   "id": "compatible-vault",
   "metadata": {},
   "outputs": [],
   "source": [
    "model.compile(loss='categorical_crossentropy', optimizer='adam', metrics=['accuracy'])"
   ]
  },
  {
   "cell_type": "code",
   "execution_count": 64,
   "id": "otherwise-anatomy",
   "metadata": {},
   "outputs": [
    {
     "name": "stdout",
     "output_type": "stream",
     "text": [
      "(132,)\n",
      "(132, 10)\n",
      "(132, 5)\n"
     ]
    }
   ],
   "source": [
    "X_train_indices = sentences_to_indices(X_train, word_to_index, maxLen)\n",
    "print(Y_train.shape)\n",
    "Y_train_oh = convert_to_one_hot(Y_train, C = 5)\n",
    "print(X_train_indices.shape)\n",
    "print(Y_train_oh.shape)"
   ]
  },
  {
   "cell_type": "code",
   "execution_count": 65,
   "id": "buried-height",
   "metadata": {},
   "outputs": [
    {
     "name": "stdout",
     "output_type": "stream",
     "text": [
      "Epoch 1/50\n",
      "132/132 [==============================] - 1s 5ms/step - loss: 1.5973 - accuracy: 0.1818\n",
      "Epoch 2/50\n",
      "132/132 [==============================] - 0s 760us/step - loss: 1.5175 - accuracy: 0.2879\n",
      "Epoch 3/50\n",
      "132/132 [==============================] - 0s 795us/step - loss: 1.4589 - accuracy: 0.3106\n",
      "Epoch 4/50\n",
      "132/132 [==============================] - 0s 792us/step - loss: 1.3854 - accuracy: 0.4318\n",
      "Epoch 5/50\n",
      "132/132 [==============================] - 0s 855us/step - loss: 1.2776 - accuracy: 0.5682\n",
      "Epoch 6/50\n",
      "132/132 [==============================] - 0s 819us/step - loss: 1.1359 - accuracy: 0.6439\n",
      "Epoch 7/50\n",
      "132/132 [==============================] - 0s 780us/step - loss: 0.9773 - accuracy: 0.6818\n",
      "Epoch 8/50\n",
      "132/132 [==============================] - 0s 811us/step - loss: 0.8560 - accuracy: 0.6742\n",
      "Epoch 9/50\n",
      "132/132 [==============================] - 0s 793us/step - loss: 0.8539 - accuracy: 0.6894\n",
      "Epoch 10/50\n",
      "132/132 [==============================] - 0s 774us/step - loss: 0.7743 - accuracy: 0.7348\n",
      "Epoch 11/50\n",
      "132/132 [==============================] - 0s 757us/step - loss: 0.6756 - accuracy: 0.7803\n",
      "Epoch 12/50\n",
      "132/132 [==============================] - 0s 780us/step - loss: 0.6929 - accuracy: 0.7121\n",
      "Epoch 13/50\n",
      "132/132 [==============================] - 0s 792us/step - loss: 0.6010 - accuracy: 0.7955\n",
      "Epoch 14/50\n",
      "132/132 [==============================] - 0s 764us/step - loss: 0.4884 - accuracy: 0.8409\n",
      "Epoch 15/50\n",
      "132/132 [==============================] - 0s 773us/step - loss: 0.4800 - accuracy: 0.8182\n",
      "Epoch 16/50\n",
      "132/132 [==============================] - 0s 774us/step - loss: 0.3868 - accuracy: 0.8333\n",
      "Epoch 17/50\n",
      "132/132 [==============================] - 0s 791us/step - loss: 0.3324 - accuracy: 0.8864\n",
      "Epoch 18/50\n",
      "132/132 [==============================] - 0s 801us/step - loss: 0.3729 - accuracy: 0.8485\n",
      "Epoch 19/50\n",
      "132/132 [==============================] - 0s 806us/step - loss: 0.3245 - accuracy: 0.8788\n",
      "Epoch 20/50\n",
      "132/132 [==============================] - 0s 790us/step - loss: 0.2964 - accuracy: 0.8864\n",
      "Epoch 21/50\n",
      "132/132 [==============================] - 0s 777us/step - loss: 0.3093 - accuracy: 0.8939\n",
      "Epoch 22/50\n",
      "132/132 [==============================] - 0s 807us/step - loss: 0.2411 - accuracy: 0.9015\n",
      "Epoch 23/50\n",
      "132/132 [==============================] - 0s 780us/step - loss: 0.1850 - accuracy: 0.9470\n",
      "Epoch 24/50\n",
      "132/132 [==============================] - 0s 792us/step - loss: 0.2132 - accuracy: 0.9318\n",
      "Epoch 25/50\n",
      "132/132 [==============================] - 0s 810us/step - loss: 0.1669 - accuracy: 0.9470\n",
      "Epoch 26/50\n",
      "132/132 [==============================] - 0s 804us/step - loss: 0.1649 - accuracy: 0.9394\n",
      "Epoch 27/50\n",
      "132/132 [==============================] - 0s 791us/step - loss: 0.1574 - accuracy: 0.9318\n",
      "Epoch 28/50\n",
      "132/132 [==============================] - 0s 846us/step - loss: 0.1097 - accuracy: 0.9621\n",
      "Epoch 29/50\n",
      "132/132 [==============================] - 0s 799us/step - loss: 0.1192 - accuracy: 0.9621\n",
      "Epoch 30/50\n",
      "132/132 [==============================] - 0s 795us/step - loss: 0.0951 - accuracy: 0.9773\n",
      "Epoch 31/50\n",
      "132/132 [==============================] - 0s 816us/step - loss: 0.1379 - accuracy: 0.9621\n",
      "Epoch 32/50\n",
      "132/132 [==============================] - 0s 779us/step - loss: 0.0737 - accuracy: 0.9848\n",
      "Epoch 33/50\n",
      "132/132 [==============================] - 0s 874us/step - loss: 0.0590 - accuracy: 0.9924\n",
      "Epoch 34/50\n",
      "132/132 [==============================] - 0s 942us/step - loss: 0.0401 - accuracy: 0.9848\n",
      "Epoch 35/50\n",
      "132/132 [==============================] - 0s 801us/step - loss: 0.0542 - accuracy: 0.9924\n",
      "Epoch 36/50\n",
      "132/132 [==============================] - 0s 808us/step - loss: 0.1022 - accuracy: 0.9697\n",
      "Epoch 37/50\n",
      "132/132 [==============================] - 0s 796us/step - loss: 0.0874 - accuracy: 0.9621\n",
      "Epoch 38/50\n",
      "132/132 [==============================] - 0s 799us/step - loss: 0.1002 - accuracy: 0.9621\n",
      "Epoch 39/50\n",
      "132/132 [==============================] - 0s 797us/step - loss: 0.1018 - accuracy: 0.9697\n",
      "Epoch 40/50\n",
      "132/132 [==============================] - 0s 802us/step - loss: 0.4180 - accuracy: 0.8939\n",
      "Epoch 41/50\n",
      "132/132 [==============================] - 0s 785us/step - loss: 0.2362 - accuracy: 0.9091\n",
      "Epoch 42/50\n",
      "132/132 [==============================] - 0s 796us/step - loss: 0.3934 - accuracy: 0.9167\n",
      "Epoch 43/50\n",
      "132/132 [==============================] - 0s 806us/step - loss: 0.2510 - accuracy: 0.9091\n",
      "Epoch 44/50\n",
      "132/132 [==============================] - 0s 856us/step - loss: 0.1818 - accuracy: 0.9621\n",
      "Epoch 45/50\n",
      "132/132 [==============================] - 0s 818us/step - loss: 0.1657 - accuracy: 0.9697\n",
      "Epoch 46/50\n",
      "132/132 [==============================] - 0s 867us/step - loss: 0.0881 - accuracy: 0.9773\n",
      "Epoch 47/50\n",
      "132/132 [==============================] - 0s 794us/step - loss: 0.0816 - accuracy: 0.9697\n",
      "Epoch 48/50\n",
      "132/132 [==============================] - 0s 799us/step - loss: 0.0851 - accuracy: 0.9621\n",
      "Epoch 49/50\n",
      "132/132 [==============================] - 0s 797us/step - loss: 0.0500 - accuracy: 0.9924\n",
      "Epoch 50/50\n",
      "132/132 [==============================] - 0s 914us/step - loss: 0.0424 - accuracy: 0.9924\n"
     ]
    },
    {
     "data": {
      "text/plain": [
       "<keras.callbacks.callbacks.History at 0x7fbd444f8d50>"
      ]
     },
     "execution_count": 65,
     "metadata": {},
     "output_type": "execute_result"
    }
   ],
   "source": [
    "model.fit(X_train_indices, Y_train_oh, epochs = 50, batch_size = 32, shuffle=True)"
   ]
  },
  {
   "cell_type": "code",
   "execution_count": 66,
   "id": "abandoned-least",
   "metadata": {},
   "outputs": [
    {
     "name": "stdout",
     "output_type": "stream",
     "text": [
      "56/56 [==============================] - 0s 3ms/step\n",
      "\n",
      "Test accuracy =  0.7678571343421936\n"
     ]
    }
   ],
   "source": [
    "X_test_indices = sentences_to_indices(X_test, word_to_index, max_len = maxLen)\n",
    "Y_test_oh = convert_to_one_hot(Y_test, C = 5)\n",
    "loss, acc = model.evaluate(X_test_indices, Y_test_oh)\n",
    "print()\n",
    "print(\"Test accuracy = \", acc)"
   ]
  },
  {
   "cell_type": "code",
   "execution_count": null,
   "id": "individual-cosmetic",
   "metadata": {},
   "outputs": [],
   "source": []
  }
 ],
 "metadata": {
  "kernelspec": {
   "display_name": "Python 3",
   "language": "python",
   "name": "python3"
  },
  "language_info": {
   "codemirror_mode": {
    "name": "ipython",
    "version": 3
   },
   "file_extension": ".py",
   "mimetype": "text/x-python",
   "name": "python",
   "nbconvert_exporter": "python",
   "pygments_lexer": "ipython3",
   "version": "3.7.9"
  }
 },
 "nbformat": 4,
 "nbformat_minor": 5
}
